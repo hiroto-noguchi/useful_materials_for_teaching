{
  "cells": [
    {
      "cell_type": "markdown",
      "metadata": {
        "id": "view-in-github",
        "colab_type": "text"
      },
      "source": [
        "<a href=\"https://colab.research.google.com/github/hiroto-noguchi/useful_materials_for_teaching/blob/main/docx2pdf.ipynb\" target=\"_parent\"><img src=\"https://colab.research.google.com/assets/colab-badge.svg\" alt=\"Open In Colab\"/></a>"
      ]
    },
    {
      "cell_type": "code",
      "execution_count": null,
      "metadata": {
        "id": "YZdjw3ownA7R"
      },
      "outputs": [],
      "source": [
        "# フォントのインストール\n",
        "!apt-get -qq update\n",
        "!apt-get -qq install fonts-ipafont-gothic\n",
        "\n",
        "!sudo apt-get install unoconv\n",
        "\n",
        "import subprocess\n",
        "from google.colab import files\n",
        "\n",
        "# unoconvを使用して、WordファイルをPDFに変換する\n",
        "def convert_to_pdf(filename):\n",
        "    # 出力のエンコーディングをUTF-8に設定する\n",
        "    cmd = ['unoconv', '-f', 'pdf', '--stdout', '-e', 'UseLosslessCompression=false',\n",
        "           '-e', 'ReduceImageResolution=true', '-e', 'MaxImageResolution=300',\n",
        "           '-e', 'ExportEmbedFonts=true', '-e', 'SubsetFonts=false',\n",
        "           '-e', f'ExportFonts={\",\".join([\"IPA Gothic\"])}', filename]\n",
        "\n",
        "    output = subprocess.check_output(cmd)\n",
        "    pdf_filename = f\"{filename.split('.')[0]}.pdf\"\n",
        "\n",
        "    # PDFファイルを書き込む\n",
        "    with open(pdf_filename, 'wb') as f:\n",
        "        f.write(output)\n",
        "\n",
        "    print(f\"File {filename} has been converted to PDF successfully!\")\n",
        "\n",
        "    # 変換されたPDFファイルをダウンロードする\n",
        "    files.download(pdf_filename)\n",
        "\n",
        "# アップロードされたファイルを取得する\n",
        "uploaded = files.upload()\n",
        "\n",
        "for filename in uploaded.keys():\n",
        "    convert_to_pdf(filename)"
      ]
    }
  ],
  "metadata": {
    "colab": {
      "provenance": [],
      "authorship_tag": "ABX9TyN2BZOwTPHTW8qlrxem8LPv",
      "include_colab_link": true
    },
    "kernelspec": {
      "display_name": "Python 3",
      "name": "python3"
    },
    "language_info": {
      "name": "python"
    }
  },
  "nbformat": 4,
  "nbformat_minor": 0
}